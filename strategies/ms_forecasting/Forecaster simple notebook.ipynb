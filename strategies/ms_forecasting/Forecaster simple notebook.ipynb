{
 "cells": [
  {
   "metadata": {},
   "cell_type": "markdown",
   "source": "Will create data for days 0-750 then fit a forecaster on it to predict logReturns and then export the model and attempt to runin a sim without retraining.",
   "id": "118c49b205fa14e0"
  },
  {
   "metadata": {
    "collapsed": true,
    "ExecuteTime": {
     "end_time": "2025-07-13T06:18:31.826641Z",
     "start_time": "2025-07-13T06:18:29.531643Z"
    }
   },
   "cell_type": "code",
   "source": [
    "import glob\n",
    "import os\n",
    "\n",
    "import numpy as np\n",
    "import pandas as pd\n",
    "\n",
    "import matplotlib.pyplot as plt\n",
    "from IPython.display import display\n",
    "from skforecast.plot import set_dark_theme\n",
    "from sklearn.multioutput import MultiOutputRegressor\n",
    "from tqdm import tqdm\n",
    "\n",
    "import sklearn\n",
    "import skforecast\n",
    "from sklearn.ensemble import HistGradientBoostingRegressor, GradientBoostingRegressor\n",
    "from sklearn.preprocessing import StandardScaler, MinMaxScaler\n",
    "from skforecast.recursive import ForecasterRecursive, ForecasterRecursiveMultiSeries\n",
    "from skforecast.model_selection import (\n",
    "    TimeSeriesFold,\n",
    "    OneStepAheadFold,\n",
    "    backtesting_forecaster,\n",
    "    bayesian_search_forecaster,\n",
    "    backtesting_forecaster_multiseries,\n",
    "    bayesian_search_forecaster_multiseries\n",
    ")\n",
    "from skforecast.preprocessing import RollingFeatures, series_long_to_dict, exog_long_to_dict\n",
    "from skforecast.exceptions import OneStepAheadValidationWarning\n",
    "\n",
    "import warnings"
   ],
   "id": "initial_id",
   "outputs": [],
   "execution_count": 1
  },
  {
   "metadata": {
    "ExecuteTime": {
     "end_time": "2025-07-13T06:19:29.508765Z",
     "start_time": "2025-07-13T06:18:32.115972Z"
    }
   },
   "cell_type": "code",
   "source": [
    "prices750Days = np.loadtxt(\"../../sourceCode/prices.txt\").T\n",
    "\n",
    "from strategies.ms_forecasting.main import createGreeksManager\n",
    "from strategies.ms_forecasting.main import GreeksManager\n",
    "from strategies.ms_forecasting.main import PRICE_LAGS\n",
    "from strategies.ms_forecasting.main import WINDOW_SIZES\n",
    "\n",
    "LAGS = 100\n",
    "ROLLING_FEATURES_SIZE = 100\n",
    "\n",
    "preTrainingDays = max(max(PRICE_LAGS + WINDOW_SIZES), LAGS, ROLLING_FEATURES_SIZE)\n",
    "firstTrainingDay = preTrainingDays + 1\n",
    "trainingDataWindowSize = 749 - preTrainingDays # 749 because 1 extra day needed for the windows\n",
    "\n",
    "print(f\"PreTrainingDays        = {preTrainingDays}\")\n",
    "print(f\"trainingDataWindowSize = {trainingDataWindowSize}\")\n",
    "\n",
    "gm: GreeksManager = createGreeksManager(prices750Days, trainingDataWindowSize)\n",
    "\n",
    "exogIndex = pd.RangeIndex(firstTrainingDay, firstTrainingDay + trainingDataWindowSize)\n",
    "exogDict = gm.getGreeksHistoryDict(exogIndex)\n",
    "\n",
    "print(\"Inst 0 days [742, 750]:\\n\", prices750Days[0, -8:])\n",
    "display(\"inst 0 head:\", exogDict[\"inst_0\"].head(1))\n",
    "display(\"inst 0 tail:\", exogDict[\"inst_0\"].tail(1))\n",
    "print(f\"each inst-greek has {len(exogDict[\"inst_0\"][\"greek_lag_1\"])} days\")\n",
    "\n",
    "display(\"exogDict: \", gm.getGreeksDict(pd.RangeIndex(750, 751))[\"inst_0\"])"
   ],
   "id": "35496d2a1da69683",
   "outputs": [
    {
     "name": "stdout",
     "output_type": "stream",
     "text": [
      "PreTrainingDays        = 248\n",
      "trainingDataWindowSize = 501\n"
     ]
    },
    {
     "ename": "IndexError",
     "evalue": "index 750 is out of bounds for axis 1 with size 750",
     "output_type": "error",
     "traceback": [
      "\u001B[31m---------------------------------------------------------------------------\u001B[39m",
      "\u001B[31mIndexError\u001B[39m                                Traceback (most recent call last)",
      "\u001B[36mCell\u001B[39m\u001B[36m \u001B[39m\u001B[32mIn[2]\u001B[39m\u001B[32m, line 18\u001B[39m\n\u001B[32m     15\u001B[39m \u001B[38;5;28mprint\u001B[39m(\u001B[33mf\u001B[39m\u001B[33m\"\u001B[39m\u001B[33mPreTrainingDays        = \u001B[39m\u001B[38;5;132;01m{\u001B[39;00mpreTrainingDays\u001B[38;5;132;01m}\u001B[39;00m\u001B[33m\"\u001B[39m)\n\u001B[32m     16\u001B[39m \u001B[38;5;28mprint\u001B[39m(\u001B[33mf\u001B[39m\u001B[33m\"\u001B[39m\u001B[33mtrainingDataWindowSize = \u001B[39m\u001B[38;5;132;01m{\u001B[39;00mtrainingDataWindowSize\u001B[38;5;132;01m}\u001B[39;00m\u001B[33m\"\u001B[39m)\n\u001B[32m---> \u001B[39m\u001B[32m18\u001B[39m gm: GreeksManager = createGreeksManager(prices750Days, trainingDataWindowSize)\n\u001B[32m     20\u001B[39m exogIndex = pd.RangeIndex(firstTrainingDay, firstTrainingDay + trainingDataWindowSize)\n\u001B[32m     21\u001B[39m exogDict = gm.getGreeksHistoryDict(exogIndex)\n",
      "\u001B[36mFile \u001B[39m\u001B[32m~\\IdeaProjects\\Algothon-2025\\strategies\\ms_forecasting\\main.py:1104\u001B[39m, in \u001B[36mcreateGreeksManager\u001B[39m\u001B[34m(prices, T)\u001B[39m\n\u001B[32m   1095\u001B[39m bbDict = {\n\u001B[32m   1096\u001B[39m     \u001B[33mf\u001B[39m\u001B[33m\"\u001B[39m\u001B[38;5;132;01m{\u001B[39;00mbbPrefix\u001B[38;5;132;01m}\u001B[39;00m\u001B[38;5;132;01m{\u001B[39;00mperiod\u001B[38;5;132;01m}\u001B[39;00m\u001B[33m\"\u001B[39m: BollingerBands(T, prices, period, k=\u001B[32m2.0\u001B[39m)\n\u001B[32m   1097\u001B[39m     \u001B[38;5;28;01mfor\u001B[39;00m period \u001B[38;5;129;01min\u001B[39;00m WINDOW_SIZES\n\u001B[32m   1098\u001B[39m }\n\u001B[32m   1099\u001B[39m willrDict = {\n\u001B[32m   1100\u001B[39m     \u001B[33mf\u001B[39m\u001B[33m\"\u001B[39m\u001B[38;5;132;01m{\u001B[39;00mwillrPrefix\u001B[38;5;132;01m}\u001B[39;00m\u001B[38;5;132;01m{\u001B[39;00mwindow\u001B[38;5;132;01m}\u001B[39;00m\u001B[33m\"\u001B[39m: WilliamsR(T, prices, window)\n\u001B[32m   1101\u001B[39m     \u001B[38;5;28;01mfor\u001B[39;00m window \u001B[38;5;129;01min\u001B[39;00m WINDOW_SIZES\n\u001B[32m   1102\u001B[39m }\n\u001B[32m   1103\u001B[39m accelDict = {\n\u001B[32m-> \u001B[39m\u001B[32m1104\u001B[39m     \u001B[33mf\u001B[39m\u001B[33m\"\u001B[39m\u001B[38;5;132;01m{\u001B[39;00maccelPrefix\u001B[38;5;132;01m}\u001B[39;00m\u001B[38;5;132;01m{\u001B[39;00mwindow\u001B[38;5;132;01m}\u001B[39;00m\u001B[33m\"\u001B[39m: PriceAcceleration(T, prices, window)\n\u001B[32m   1105\u001B[39m     \u001B[38;5;28;01mfor\u001B[39;00m window \u001B[38;5;129;01min\u001B[39;00m WINDOW_SIZES\n\u001B[32m   1106\u001B[39m }\n\u001B[32m   1107\u001B[39m demaDict = {\n\u001B[32m   1108\u001B[39m     \u001B[33mf\u001B[39m\u001B[33m\"\u001B[39m\u001B[38;5;132;01m{\u001B[39;00mdemaPrefix\u001B[38;5;132;01m}\u001B[39;00m\u001B[38;5;132;01m{\u001B[39;00mperiod\u001B[38;5;132;01m}\u001B[39;00m\u001B[33m\"\u001B[39m: DoubleExponentialMovingAverage(T, prices, period)\n\u001B[32m   1109\u001B[39m     \u001B[38;5;28;01mfor\u001B[39;00m period \u001B[38;5;129;01min\u001B[39;00m WINDOW_SIZES\n\u001B[32m   1110\u001B[39m }\n\u001B[32m   1111\u001B[39m temaDict = {\n\u001B[32m   1112\u001B[39m     \u001B[33mf\u001B[39m\u001B[33m\"\u001B[39m\u001B[38;5;132;01m{\u001B[39;00mtemaPrefix\u001B[38;5;132;01m}\u001B[39;00m\u001B[38;5;132;01m{\u001B[39;00mperiod\u001B[38;5;132;01m}\u001B[39;00m\u001B[33m\"\u001B[39m: TripleExponentialMovingAverage(T, prices, period)\n\u001B[32m   1113\u001B[39m     \u001B[38;5;28;01mfor\u001B[39;00m period \u001B[38;5;129;01min\u001B[39;00m WINDOW_SIZES\n\u001B[32m   1114\u001B[39m }\n",
      "\u001B[36mFile \u001B[39m\u001B[32m~\\IdeaProjects\\Algothon-2025\\strategies\\ms_forecasting\\main.py:675\u001B[39m, in \u001B[36mPriceAcceleration.__init__\u001B[39m\u001B[34m(self, historyWindowSize, pricesSoFar, windowSize)\u001B[39m\n\u001B[32m    673\u001B[39m p0 = \u001B[38;5;28mself\u001B[39m.buffer[:, i]\n\u001B[32m    674\u001B[39m p1 = \u001B[38;5;28mself\u001B[39m.buffer[:, i + windowSize]\n\u001B[32m--> \u001B[39m\u001B[32m675\u001B[39m p2 = \u001B[38;5;28mself\u001B[39m.buffer[:, i + windowSize + \u001B[32m1\u001B[39m]\n\u001B[32m    676\u001B[39m mom1 = np.log(p1 / p0)\n\u001B[32m    677\u001B[39m mom2 = np.log(p2 / p1)\n",
      "\u001B[31mIndexError\u001B[39m: index 750 is out of bounds for axis 1 with size 750"
     ]
    }
   ],
   "execution_count": 2
  },
  {
   "metadata": {},
   "cell_type": "code",
   "source": [
    "prices1000Days = np.loadtxt(\"../../sourceCode/1000Prices.txt\").T\n",
    "\n",
    "print(prices1000Days[0, 747:752])\n",
    "print(prices750Days[0, 747:752])\n",
    "\n",
    "logReturnsPricesWindow = prices1000Days[:, preTrainingDays:]\n",
    "logReturnsNp = np.log(logReturnsPricesWindow[:, 1:] / logReturnsPricesWindow[:, :-1])\n",
    "\n",
    "logReturnsIndex = pd.RangeIndex(firstTrainingDay, 1000)\n",
    "logReturnsSeries = pd.DataFrame(logReturnsNp.T,\n",
    "                          index = logReturnsIndex,\n",
    "                          columns = [f\"inst_{i}\" for i in range(logReturnsNp.shape[0])])\n",
    "\n",
    "\n",
    "# Create the training window separate so not to leak data\n",
    "logReturnsTrainingWindow = prices750Days[:, preTrainingDays:]\n",
    "logReturnsTrainingNp = np.log(logReturnsTrainingWindow[:, 1:] / logReturnsTrainingWindow[:, :-1])\n",
    "\n",
    "logReturnsTrainingIndex = pd.RangeIndex(firstTrainingDay, 750)\n",
    "logReturnsTrainingSeries = pd.DataFrame(logReturnsTrainingNp.T,\n",
    "                          index = logReturnsTrainingIndex,\n",
    "                          columns = [f\"inst_{i}\" for i in range(logReturnsTrainingNp.shape[0])])\n",
    "\n",
    "display(\"Log returns training series tail:\", logReturnsTrainingSeries.tail())\n",
    "display(\"Log returns series around day 750 (Make sure it matches the above + extra):\", logReturnsSeries.loc[745:750])\n",
    "display(\"Log returns tail (1) (should be index 999):\", logReturnsSeries.tail(1))\n",
    "\n",
    "print(\"Inst_0:\")\n",
    "priceA = prices750Days[0, 748]\n",
    "priceB = prices750Days[0, 749]\n",
    "logReturnAToB = np.log(priceB / priceA)\n",
    "print(f\"Price on day 749 = {priceA}\")\n",
    "print(f\"Price on day 750 = {priceB}\")\n",
    "print(f\"The log return for day 749 = {logReturnAToB}\")\n",
    "\n",
    "assert logReturnsTrainingSeries.index[0] == exogDict['inst_0'].index[0]"
   ],
   "id": "c91dd8ad734fc92b",
   "outputs": [],
   "execution_count": null
  },
  {
   "metadata": {},
   "cell_type": "code",
   "source": [
    "from sklearn.ensemble import RandomForestRegressor\n",
    "from sklearn.svm import SVR\n",
    "from catboost import CatBoostRegressor\n",
    "from xgboost import XGBRegressor\n",
    "\n",
    "display(exogDict[\"inst_0\"].tail(3))\n",
    "display(logReturnsTrainingSeries.tail(3))\n",
    "print(\"inst_0 prices days 745: = \", prices750Days[0, 745:])\n",
    "display(gm.getGreeksDict(pd.RangeIndex(750, 751))[\"inst_0\"])\n",
    "\n",
    "logReturnsForecaster = ForecasterRecursiveMultiSeries(\n",
    "    # regressor           = HistGradientBoostingRegressor(random_state=8523, learning_rate=0.05),\n",
    "    regressor = XGBRegressor(\n",
    "        objective='reg:squarederror',\n",
    "        n_estimators=300,\n",
    "        learning_rate=0.05,\n",
    "        max_depth=6,\n",
    "        random_state=8523,\n",
    "        verbosity=0\n",
    "    ),\n",
    "    transformer_series  = None,\n",
    "    transformer_exog    = StandardScaler(),\n",
    "    lags                = LAGS,\n",
    "    window_features     = RollingFeatures(\n",
    "                                stats           = ['min', 'max'],\n",
    "                                window_sizes    = ROLLING_FEATURES_SIZE,\n",
    "                            ),\n",
    ")\n",
    "\n",
    "logReturnsForecaster.fit(\n",
    "    series  = logReturnsTrainingSeries,\n",
    "    exog    = exogDict\n",
    ")\n",
    "\n",
    "logReturnsForecaster.is_fitted"
   ],
   "id": "652f9574ce17ad08",
   "outputs": [],
   "execution_count": null
  },
  {
   "metadata": {},
   "cell_type": "markdown",
   "source": "# Simulate updating the greeks daily and making a one step prediction:",
   "id": "1ff7f558c48542f2"
  },
  {
   "metadata": {},
   "cell_type": "code",
   "source": [
    "predictions = []\n",
    "\n",
    "for day in range(750, 1000):\n",
    "\n",
    "    predictionExogs = gm.getGreeksDict(pd.RangeIndex(day, day+1))\n",
    "    last_window = logReturnsSeries.loc[:day-1].tail(max(logReturnsForecaster.lags))\n",
    "\n",
    "    prediction = logReturnsForecaster.predict(\n",
    "        last_window = last_window,\n",
    "        exog        = predictionExogs,\n",
    "        steps       = 1,\n",
    "        levels      = list(last_window.columns),\n",
    "    )\n",
    "\n",
    "    predictions.append(prediction[\"pred\"].values)\n",
    "\n",
    "    gm.updateGreeks(prices1000Days[:, day])\n"
   ],
   "id": "3b44ef23eaafa02c",
   "outputs": [],
   "execution_count": null
  },
  {
   "metadata": {},
   "cell_type": "code",
   "source": [
    "def plotPredictedVsActualLogReturns(predictions, actualLogReturns, instrumentIndex):\n",
    "    instrumentPredictions = np.array([prediction[instrumentIndex] for prediction in predictions])\n",
    "    actualInstrumentLogReturns = actualLogReturns[instrumentIndex, :]\n",
    "\n",
    "    print(f\"instrumentPredictions shape = {instrumentPredictions.shape}\")\n",
    "    print(f\"actualInstrumentLogReturns shape = {actualInstrumentLogReturns.shape}\")\n",
    "\n",
    "    days = np.arange(750, 1000)\n",
    "\n",
    "    plt.figure(figsize=(14, 8))\n",
    "    plt.plot(days, instrumentPredictions, label = \"Predictions\")\n",
    "    plt.plot(days, actualInstrumentLogReturns, label = \"Actual\")\n",
    "    plt.xlabel(\"day\")\n",
    "    plt.ylabel(\"Log Return\")\n",
    "    plt.legend()\n",
    "    plt.grid(True)\n",
    "    plt.show()\n",
    "\n",
    "actualLogReturns = np.log(prices1000Days[:, 750:] / prices1000Days[:, 749:-1])\n",
    "\n",
    "plotPredictedVsActualLogReturns(predictions, actualLogReturns, 0)"
   ],
   "id": "4d6f7fe5dab52030",
   "outputs": [],
   "execution_count": null
  }
 ],
 "metadata": {
  "kernelspec": {
   "display_name": "Python 3",
   "language": "python",
   "name": "python3"
  },
  "language_info": {
   "codemirror_mode": {
    "name": "ipython",
    "version": 2
   },
   "file_extension": ".py",
   "mimetype": "text/x-python",
   "name": "python",
   "nbconvert_exporter": "python",
   "pygments_lexer": "ipython2",
   "version": "2.7.6"
  }
 },
 "nbformat": 4,
 "nbformat_minor": 5
}
